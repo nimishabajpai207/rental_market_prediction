{
 "cells": [
  {
   "cell_type": "code",
   "id": "initial_id",
   "metadata": {
    "collapsed": true,
    "ExecuteTime": {
     "end_time": "2024-09-15T20:36:04.657244Z",
     "start_time": "2024-09-15T20:36:04.535869Z"
    }
   },
   "source": [
    "import pandas as pd \n",
    "data=pd.read_csv('bay_area_rentals_sample.csv')\n",
    "data.head()"
   ],
   "outputs": [
    {
     "data": {
      "text/plain": [
       "                            Property_ID         County  \\\n",
       "0  5f94c7e7-887b-459c-a918-6324df20437d         Solano   \n",
       "1  3c3363c8-633b-4367-bcb0-31588957cd68      San Mateo   \n",
       "2  1f79d1c2-eed6-43e3-8097-3f11b2671dfa  San Francisco   \n",
       "3  b004b54e-3a86-4718-89d8-928b821ade03           Napa   \n",
       "4  a0997700-6d3e-47e3-b744-b37dec531eca      San Mateo   \n",
       "\n",
       "                                            Address  Zip_Code  Crime_Rate  \\\n",
       "0         068 Nielsen Rapids, Lake Ashley, MT 52153     99651         3.5   \n",
       "1     31861 Ann Isle Suite 931, Andreaton, PW 04917     50927         4.5   \n",
       "2           48666 Freeman Oval, Port John, WY 62849     55080         4.6   \n",
       "3                         USNV Garcia, FPO AE 14574     31560         3.8   \n",
       "4  75822 Hernandez Mews, North Brendabury, NE 76892      4718         2.8   \n",
       "\n",
       "   Bedrooms  Bathrooms  Walkability_Score  Floor  New_Construction  Renovated  \\\n",
       "0         4          3                 75      4             False      False   \n",
       "1         4          3                 77      4             False      False   \n",
       "2         2          2                 90      3              True      False   \n",
       "3         2          2                 74      1              True      False   \n",
       "4         2          3                 85      2             False       True   \n",
       "\n",
       "   Washer_Dryer Trash_Service Average_Rent  \n",
       "0         False  NOT_INCLUDED        $2843  \n",
       "1          True      INCLUDED        $3672  \n",
       "2          True      INCLUDED        $2749  \n",
       "3          True      INCLUDED        $3738  \n",
       "4          True      INCLUDED        $3328  "
      ],
      "text/html": [
       "<div>\n",
       "<style scoped>\n",
       "    .dataframe tbody tr th:only-of-type {\n",
       "        vertical-align: middle;\n",
       "    }\n",
       "\n",
       "    .dataframe tbody tr th {\n",
       "        vertical-align: top;\n",
       "    }\n",
       "\n",
       "    .dataframe thead th {\n",
       "        text-align: right;\n",
       "    }\n",
       "</style>\n",
       "<table border=\"1\" class=\"dataframe\">\n",
       "  <thead>\n",
       "    <tr style=\"text-align: right;\">\n",
       "      <th></th>\n",
       "      <th>Property_ID</th>\n",
       "      <th>County</th>\n",
       "      <th>Address</th>\n",
       "      <th>Zip_Code</th>\n",
       "      <th>Crime_Rate</th>\n",
       "      <th>Bedrooms</th>\n",
       "      <th>Bathrooms</th>\n",
       "      <th>Walkability_Score</th>\n",
       "      <th>Floor</th>\n",
       "      <th>New_Construction</th>\n",
       "      <th>Renovated</th>\n",
       "      <th>Washer_Dryer</th>\n",
       "      <th>Trash_Service</th>\n",
       "      <th>Average_Rent</th>\n",
       "    </tr>\n",
       "  </thead>\n",
       "  <tbody>\n",
       "    <tr>\n",
       "      <th>0</th>\n",
       "      <td>5f94c7e7-887b-459c-a918-6324df20437d</td>\n",
       "      <td>Solano</td>\n",
       "      <td>068 Nielsen Rapids, Lake Ashley, MT 52153</td>\n",
       "      <td>99651</td>\n",
       "      <td>3.5</td>\n",
       "      <td>4</td>\n",
       "      <td>3</td>\n",
       "      <td>75</td>\n",
       "      <td>4</td>\n",
       "      <td>False</td>\n",
       "      <td>False</td>\n",
       "      <td>False</td>\n",
       "      <td>NOT_INCLUDED</td>\n",
       "      <td>$2843</td>\n",
       "    </tr>\n",
       "    <tr>\n",
       "      <th>1</th>\n",
       "      <td>3c3363c8-633b-4367-bcb0-31588957cd68</td>\n",
       "      <td>San Mateo</td>\n",
       "      <td>31861 Ann Isle Suite 931, Andreaton, PW 04917</td>\n",
       "      <td>50927</td>\n",
       "      <td>4.5</td>\n",
       "      <td>4</td>\n",
       "      <td>3</td>\n",
       "      <td>77</td>\n",
       "      <td>4</td>\n",
       "      <td>False</td>\n",
       "      <td>False</td>\n",
       "      <td>True</td>\n",
       "      <td>INCLUDED</td>\n",
       "      <td>$3672</td>\n",
       "    </tr>\n",
       "    <tr>\n",
       "      <th>2</th>\n",
       "      <td>1f79d1c2-eed6-43e3-8097-3f11b2671dfa</td>\n",
       "      <td>San Francisco</td>\n",
       "      <td>48666 Freeman Oval, Port John, WY 62849</td>\n",
       "      <td>55080</td>\n",
       "      <td>4.6</td>\n",
       "      <td>2</td>\n",
       "      <td>2</td>\n",
       "      <td>90</td>\n",
       "      <td>3</td>\n",
       "      <td>True</td>\n",
       "      <td>False</td>\n",
       "      <td>True</td>\n",
       "      <td>INCLUDED</td>\n",
       "      <td>$2749</td>\n",
       "    </tr>\n",
       "    <tr>\n",
       "      <th>3</th>\n",
       "      <td>b004b54e-3a86-4718-89d8-928b821ade03</td>\n",
       "      <td>Napa</td>\n",
       "      <td>USNV Garcia, FPO AE 14574</td>\n",
       "      <td>31560</td>\n",
       "      <td>3.8</td>\n",
       "      <td>2</td>\n",
       "      <td>2</td>\n",
       "      <td>74</td>\n",
       "      <td>1</td>\n",
       "      <td>True</td>\n",
       "      <td>False</td>\n",
       "      <td>True</td>\n",
       "      <td>INCLUDED</td>\n",
       "      <td>$3738</td>\n",
       "    </tr>\n",
       "    <tr>\n",
       "      <th>4</th>\n",
       "      <td>a0997700-6d3e-47e3-b744-b37dec531eca</td>\n",
       "      <td>San Mateo</td>\n",
       "      <td>75822 Hernandez Mews, North Brendabury, NE 76892</td>\n",
       "      <td>4718</td>\n",
       "      <td>2.8</td>\n",
       "      <td>2</td>\n",
       "      <td>3</td>\n",
       "      <td>85</td>\n",
       "      <td>2</td>\n",
       "      <td>False</td>\n",
       "      <td>True</td>\n",
       "      <td>True</td>\n",
       "      <td>INCLUDED</td>\n",
       "      <td>$3328</td>\n",
       "    </tr>\n",
       "  </tbody>\n",
       "</table>\n",
       "</div>"
      ]
     },
     "execution_count": 2,
     "metadata": {},
     "output_type": "execute_result"
    }
   ],
   "execution_count": 2
  },
  {
   "metadata": {
    "ExecuteTime": {
     "end_time": "2024-09-15T21:01:00.053191Z",
     "start_time": "2024-09-15T21:01:00.049363Z"
    }
   },
   "cell_type": "code",
   "source": [
    "all_features=data.columns.to_list()\n",
    "all_features"
   ],
   "id": "d7563b5aaf002f50",
   "outputs": [
    {
     "data": {
      "text/plain": [
       "['Property_ID',\n",
       " 'County',\n",
       " 'Address',\n",
       " 'Zip_Code',\n",
       " 'Crime_Rate',\n",
       " 'Bedrooms',\n",
       " 'Bathrooms',\n",
       " 'Walkability_Score',\n",
       " 'Floor',\n",
       " 'New_Construction',\n",
       " 'Renovated',\n",
       " 'Washer_Dryer',\n",
       " 'Trash_Service',\n",
       " 'Average_Rent']"
      ]
     },
     "execution_count": 31,
     "metadata": {},
     "output_type": "execute_result"
    }
   ],
   "execution_count": 31
  },
  {
   "metadata": {
    "ExecuteTime": {
     "end_time": "2024-09-15T21:01:01.211500Z",
     "start_time": "2024-09-15T21:01:01.190859Z"
    }
   },
   "cell_type": "code",
   "source": [
    "rel_features=['County',\n",
    " 'Bedrooms',\n",
    " 'Bathrooms',\n",
    " 'Walkability_Score',\n",
    " 'Renovated',\n",
    " 'Washer_Dryer',\n",
    " 'Average_Rent']\n",
    "fin_df=data[rel_features]\n",
    "fin_df['Renovated']=fin_df['Renovated'].apply(lambda x: 1 if True else 0)\n",
    "fin_df['Washer_Dryer']=fin_df['Washer_Dryer'].apply(lambda x: 1 if True else 0)\n",
    "fin_df['Average_Rent']=fin_df['Average_Rent'].apply(lambda x: int(x.replace('$','')))\n",
    "fin_df.head()"
   ],
   "id": "5de71b7cb2953a73",
   "outputs": [
    {
     "name": "stderr",
     "output_type": "stream",
     "text": [
      "/var/folders/_1/4qth7z751wq149nn6dw5d2r40000gn/T/ipykernel_35175/1585065529.py:9: SettingWithCopyWarning: \n",
      "A value is trying to be set on a copy of a slice from a DataFrame.\n",
      "Try using .loc[row_indexer,col_indexer] = value instead\n",
      "\n",
      "See the caveats in the documentation: https://pandas.pydata.org/pandas-docs/stable/user_guide/indexing.html#returning-a-view-versus-a-copy\n",
      "  fin_df['Renovated']=fin_df['Renovated'].apply(lambda x: 1 if True else 0)\n",
      "/var/folders/_1/4qth7z751wq149nn6dw5d2r40000gn/T/ipykernel_35175/1585065529.py:10: SettingWithCopyWarning: \n",
      "A value is trying to be set on a copy of a slice from a DataFrame.\n",
      "Try using .loc[row_indexer,col_indexer] = value instead\n",
      "\n",
      "See the caveats in the documentation: https://pandas.pydata.org/pandas-docs/stable/user_guide/indexing.html#returning-a-view-versus-a-copy\n",
      "  fin_df['Washer_Dryer']=fin_df['Washer_Dryer'].apply(lambda x: 1 if True else 0)\n",
      "/var/folders/_1/4qth7z751wq149nn6dw5d2r40000gn/T/ipykernel_35175/1585065529.py:11: SettingWithCopyWarning: \n",
      "A value is trying to be set on a copy of a slice from a DataFrame.\n",
      "Try using .loc[row_indexer,col_indexer] = value instead\n",
      "\n",
      "See the caveats in the documentation: https://pandas.pydata.org/pandas-docs/stable/user_guide/indexing.html#returning-a-view-versus-a-copy\n",
      "  fin_df['Average_Rent']=fin_df['Average_Rent'].apply(lambda x: int(x.replace('$','')))\n"
     ]
    },
    {
     "data": {
      "text/plain": [
       "          County  Bedrooms  Bathrooms  Walkability_Score  Renovated  \\\n",
       "0         Solano         4          3                 75          1   \n",
       "1      San Mateo         4          3                 77          1   \n",
       "2  San Francisco         2          2                 90          1   \n",
       "3           Napa         2          2                 74          1   \n",
       "4      San Mateo         2          3                 85          1   \n",
       "\n",
       "   Washer_Dryer  Average_Rent  \n",
       "0             1          2843  \n",
       "1             1          3672  \n",
       "2             1          2749  \n",
       "3             1          3738  \n",
       "4             1          3328  "
      ],
      "text/html": [
       "<div>\n",
       "<style scoped>\n",
       "    .dataframe tbody tr th:only-of-type {\n",
       "        vertical-align: middle;\n",
       "    }\n",
       "\n",
       "    .dataframe tbody tr th {\n",
       "        vertical-align: top;\n",
       "    }\n",
       "\n",
       "    .dataframe thead th {\n",
       "        text-align: right;\n",
       "    }\n",
       "</style>\n",
       "<table border=\"1\" class=\"dataframe\">\n",
       "  <thead>\n",
       "    <tr style=\"text-align: right;\">\n",
       "      <th></th>\n",
       "      <th>County</th>\n",
       "      <th>Bedrooms</th>\n",
       "      <th>Bathrooms</th>\n",
       "      <th>Walkability_Score</th>\n",
       "      <th>Renovated</th>\n",
       "      <th>Washer_Dryer</th>\n",
       "      <th>Average_Rent</th>\n",
       "    </tr>\n",
       "  </thead>\n",
       "  <tbody>\n",
       "    <tr>\n",
       "      <th>0</th>\n",
       "      <td>Solano</td>\n",
       "      <td>4</td>\n",
       "      <td>3</td>\n",
       "      <td>75</td>\n",
       "      <td>1</td>\n",
       "      <td>1</td>\n",
       "      <td>2843</td>\n",
       "    </tr>\n",
       "    <tr>\n",
       "      <th>1</th>\n",
       "      <td>San Mateo</td>\n",
       "      <td>4</td>\n",
       "      <td>3</td>\n",
       "      <td>77</td>\n",
       "      <td>1</td>\n",
       "      <td>1</td>\n",
       "      <td>3672</td>\n",
       "    </tr>\n",
       "    <tr>\n",
       "      <th>2</th>\n",
       "      <td>San Francisco</td>\n",
       "      <td>2</td>\n",
       "      <td>2</td>\n",
       "      <td>90</td>\n",
       "      <td>1</td>\n",
       "      <td>1</td>\n",
       "      <td>2749</td>\n",
       "    </tr>\n",
       "    <tr>\n",
       "      <th>3</th>\n",
       "      <td>Napa</td>\n",
       "      <td>2</td>\n",
       "      <td>2</td>\n",
       "      <td>74</td>\n",
       "      <td>1</td>\n",
       "      <td>1</td>\n",
       "      <td>3738</td>\n",
       "    </tr>\n",
       "    <tr>\n",
       "      <th>4</th>\n",
       "      <td>San Mateo</td>\n",
       "      <td>2</td>\n",
       "      <td>3</td>\n",
       "      <td>85</td>\n",
       "      <td>1</td>\n",
       "      <td>1</td>\n",
       "      <td>3328</td>\n",
       "    </tr>\n",
       "  </tbody>\n",
       "</table>\n",
       "</div>"
      ]
     },
     "execution_count": 32,
     "metadata": {},
     "output_type": "execute_result"
    }
   ],
   "execution_count": 32
  },
  {
   "metadata": {
    "ExecuteTime": {
     "end_time": "2024-09-15T21:01:02.368435Z",
     "start_time": "2024-09-15T21:01:02.354325Z"
    }
   },
   "cell_type": "code",
   "source": [
    "from sklearn.preprocessing import OneHotEncoder\n",
    "categorical_columns = fin_df.select_dtypes(include=['object']).columns.tolist()\n",
    "print(categorical_columns)\n",
    "encoder = OneHotEncoder(sparse_output=False)\n",
    "one_hot_encoded = encoder.fit_transform(fin_df[categorical_columns])\n",
    "one_hot_df = pd.DataFrame(one_hot_encoded, columns=encoder.get_feature_names_out(categorical_columns))\n",
    "one_hot_df=one_hot_df.astype('int')\n",
    "df_encoded = pd.concat([fin_df, one_hot_df], axis=1)\n",
    "df_encoded = df_encoded.drop(categorical_columns, axis=1)\n",
    "df_encoded.head()"
   ],
   "id": "ce686db7e68a3251",
   "outputs": [
    {
     "name": "stdout",
     "output_type": "stream",
     "text": [
      "['County']\n"
     ]
    },
    {
     "data": {
      "text/plain": [
       "   Bedrooms  Bathrooms  Walkability_Score  Renovated  Washer_Dryer  \\\n",
       "0         4          3                 75          1             1   \n",
       "1         4          3                 77          1             1   \n",
       "2         2          2                 90          1             1   \n",
       "3         2          2                 74          1             1   \n",
       "4         2          3                 85          1             1   \n",
       "\n",
       "   Average_Rent  County_Alameda  County_Contra Costa  County_Marin  \\\n",
       "0          2843               0                    0             0   \n",
       "1          3672               0                    0             0   \n",
       "2          2749               0                    0             0   \n",
       "3          3738               0                    0             0   \n",
       "4          3328               0                    0             0   \n",
       "\n",
       "   County_Napa  County_San Francisco  County_San Mateo  County_Santa Clara  \\\n",
       "0            0                     0                 0                   0   \n",
       "1            0                     0                 1                   0   \n",
       "2            0                     1                 0                   0   \n",
       "3            1                     0                 0                   0   \n",
       "4            0                     0                 1                   0   \n",
       "\n",
       "   County_Solano  County_Sonoma  \n",
       "0              1              0  \n",
       "1              0              0  \n",
       "2              0              0  \n",
       "3              0              0  \n",
       "4              0              0  "
      ],
      "text/html": [
       "<div>\n",
       "<style scoped>\n",
       "    .dataframe tbody tr th:only-of-type {\n",
       "        vertical-align: middle;\n",
       "    }\n",
       "\n",
       "    .dataframe tbody tr th {\n",
       "        vertical-align: top;\n",
       "    }\n",
       "\n",
       "    .dataframe thead th {\n",
       "        text-align: right;\n",
       "    }\n",
       "</style>\n",
       "<table border=\"1\" class=\"dataframe\">\n",
       "  <thead>\n",
       "    <tr style=\"text-align: right;\">\n",
       "      <th></th>\n",
       "      <th>Bedrooms</th>\n",
       "      <th>Bathrooms</th>\n",
       "      <th>Walkability_Score</th>\n",
       "      <th>Renovated</th>\n",
       "      <th>Washer_Dryer</th>\n",
       "      <th>Average_Rent</th>\n",
       "      <th>County_Alameda</th>\n",
       "      <th>County_Contra Costa</th>\n",
       "      <th>County_Marin</th>\n",
       "      <th>County_Napa</th>\n",
       "      <th>County_San Francisco</th>\n",
       "      <th>County_San Mateo</th>\n",
       "      <th>County_Santa Clara</th>\n",
       "      <th>County_Solano</th>\n",
       "      <th>County_Sonoma</th>\n",
       "    </tr>\n",
       "  </thead>\n",
       "  <tbody>\n",
       "    <tr>\n",
       "      <th>0</th>\n",
       "      <td>4</td>\n",
       "      <td>3</td>\n",
       "      <td>75</td>\n",
       "      <td>1</td>\n",
       "      <td>1</td>\n",
       "      <td>2843</td>\n",
       "      <td>0</td>\n",
       "      <td>0</td>\n",
       "      <td>0</td>\n",
       "      <td>0</td>\n",
       "      <td>0</td>\n",
       "      <td>0</td>\n",
       "      <td>0</td>\n",
       "      <td>1</td>\n",
       "      <td>0</td>\n",
       "    </tr>\n",
       "    <tr>\n",
       "      <th>1</th>\n",
       "      <td>4</td>\n",
       "      <td>3</td>\n",
       "      <td>77</td>\n",
       "      <td>1</td>\n",
       "      <td>1</td>\n",
       "      <td>3672</td>\n",
       "      <td>0</td>\n",
       "      <td>0</td>\n",
       "      <td>0</td>\n",
       "      <td>0</td>\n",
       "      <td>0</td>\n",
       "      <td>1</td>\n",
       "      <td>0</td>\n",
       "      <td>0</td>\n",
       "      <td>0</td>\n",
       "    </tr>\n",
       "    <tr>\n",
       "      <th>2</th>\n",
       "      <td>2</td>\n",
       "      <td>2</td>\n",
       "      <td>90</td>\n",
       "      <td>1</td>\n",
       "      <td>1</td>\n",
       "      <td>2749</td>\n",
       "      <td>0</td>\n",
       "      <td>0</td>\n",
       "      <td>0</td>\n",
       "      <td>0</td>\n",
       "      <td>1</td>\n",
       "      <td>0</td>\n",
       "      <td>0</td>\n",
       "      <td>0</td>\n",
       "      <td>0</td>\n",
       "    </tr>\n",
       "    <tr>\n",
       "      <th>3</th>\n",
       "      <td>2</td>\n",
       "      <td>2</td>\n",
       "      <td>74</td>\n",
       "      <td>1</td>\n",
       "      <td>1</td>\n",
       "      <td>3738</td>\n",
       "      <td>0</td>\n",
       "      <td>0</td>\n",
       "      <td>0</td>\n",
       "      <td>1</td>\n",
       "      <td>0</td>\n",
       "      <td>0</td>\n",
       "      <td>0</td>\n",
       "      <td>0</td>\n",
       "      <td>0</td>\n",
       "    </tr>\n",
       "    <tr>\n",
       "      <th>4</th>\n",
       "      <td>2</td>\n",
       "      <td>3</td>\n",
       "      <td>85</td>\n",
       "      <td>1</td>\n",
       "      <td>1</td>\n",
       "      <td>3328</td>\n",
       "      <td>0</td>\n",
       "      <td>0</td>\n",
       "      <td>0</td>\n",
       "      <td>0</td>\n",
       "      <td>0</td>\n",
       "      <td>1</td>\n",
       "      <td>0</td>\n",
       "      <td>0</td>\n",
       "      <td>0</td>\n",
       "    </tr>\n",
       "  </tbody>\n",
       "</table>\n",
       "</div>"
      ]
     },
     "execution_count": 33,
     "metadata": {},
     "output_type": "execute_result"
    }
   ],
   "execution_count": 33
  },
  {
   "metadata": {
    "ExecuteTime": {
     "end_time": "2024-09-15T21:05:00.732056Z",
     "start_time": "2024-09-15T21:05:00.727005Z"
    }
   },
   "cell_type": "code",
   "source": [
    "X=df_encoded.drop('Average_Rent', axis=1)\n",
    "y=df_encoded['Average_Rent']\n",
    "from sklearn.model_selection import train_test_split\n",
    "X_train,X_test,y_train,y_test= train_test_split(X,y,test_size=0.2)"
   ],
   "id": "4bb967422d252785",
   "outputs": [],
   "execution_count": 46
  },
  {
   "metadata": {
    "ExecuteTime": {
     "end_time": "2024-09-15T21:05:20.496936Z",
     "start_time": "2024-09-15T21:05:20.489376Z"
    }
   },
   "cell_type": "code",
   "source": [
    "from sklearn.linear_model import LinearRegression\n",
    "from sklearn.metrics import mean_squared_error\n",
    "model=LinearRegression()\n",
    "model.fit(X_train,y_train)\n",
    "y_pred=model.predict(X_test)\n",
    "print(mean_squared_error(y_test,y_pred))"
   ],
   "id": "36dab6ef05b4a7d9",
   "outputs": [
    {
     "name": "stdout",
     "output_type": "stream",
     "text": [
      "335368.99588245084\n"
     ]
    }
   ],
   "execution_count": 48
  },
  {
   "metadata": {
    "ExecuteTime": {
     "end_time": "2024-09-15T21:09:17.987322Z",
     "start_time": "2024-09-15T21:09:17.984596Z"
    }
   },
   "cell_type": "code",
   "source": [
    "import pickle\n",
    "pickle.dump(model, open('rent_prediction_bay_area', 'wb'))"
   ],
   "id": "df5bfaef7ba6a866",
   "outputs": [],
   "execution_count": 49
  },
  {
   "metadata": {},
   "cell_type": "code",
   "outputs": [],
   "execution_count": null,
   "source": "",
   "id": "3da0c4f9b9743a31"
  },
  {
   "metadata": {},
   "cell_type": "code",
   "outputs": [],
   "execution_count": null,
   "source": "",
   "id": "e2ed156eff8f61f2"
  },
  {
   "metadata": {},
   "cell_type": "code",
   "outputs": [],
   "execution_count": null,
   "source": "",
   "id": "8f80f70f3bae997b"
  },
  {
   "metadata": {
    "ExecuteTime": {
     "end_time": "2024-09-15T22:57:09.499222Z",
     "start_time": "2024-09-15T22:57:09.485835Z"
    }
   },
   "cell_type": "code",
   "source": [
    "#Model Optimization\n",
    "from sklearn.preprocessing import Normalizer\n",
    "X_transform=Normalizer().fit_transform(X)\n",
    "from sklearn.model_selection import train_test_split\n",
    "X_train,X_test,y_train,y_test= train_test_split(X_transform,y,test_size=0.2)\n",
    "model=LinearRegression()\n",
    "model.fit(X_train,y_train)\n",
    "y_pred=model.predict(X_test)\n",
    "print(mean_squared_error(y_test,y_pred))"
   ],
   "id": "689992f30007c233",
   "outputs": [
    {
     "name": "stdout",
     "output_type": "stream",
     "text": [
      "334665.460953578\n"
     ]
    }
   ],
   "execution_count": 51
  },
  {
   "metadata": {
    "ExecuteTime": {
     "end_time": "2024-09-15T22:57:24.263503Z",
     "start_time": "2024-09-15T22:57:24.260108Z"
    }
   },
   "cell_type": "code",
   "source": "y_test",
   "id": "6106c0379aeed503",
   "outputs": [
    {
     "data": {
      "text/plain": [
       "5306     3605\n",
       "6845     3183\n",
       "4959     3045\n",
       "18360    3875\n",
       "12863    2582\n",
       "         ... \n",
       "11853    3250\n",
       "18968    2050\n",
       "8005     3849\n",
       "8287     3365\n",
       "15672    3562\n",
       "Name: Average_Rent, Length: 4000, dtype: int64"
      ]
     },
     "execution_count": 52,
     "metadata": {},
     "output_type": "execute_result"
    }
   ],
   "execution_count": 52
  },
  {
   "metadata": {
    "ExecuteTime": {
     "end_time": "2024-09-15T22:57:28.971036Z",
     "start_time": "2024-09-15T22:57:28.967907Z"
    }
   },
   "cell_type": "code",
   "source": "#normality is important in LSE \n",
   "id": "ca0324394e29fa5f",
   "outputs": [
    {
     "data": {
      "text/plain": [
       "array([3003.662625, 2991.662625, 2991.662625, ..., 3013.662625,\n",
       "       3011.662625, 2993.662625])"
      ]
     },
     "execution_count": 53,
     "metadata": {},
     "output_type": "execute_result"
    }
   ],
   "execution_count": 53
  },
  {
   "metadata": {},
   "cell_type": "code",
   "outputs": [],
   "execution_count": null,
   "source": "",
   "id": "8a7c913c07c4e1dc"
  }
 ],
 "metadata": {
  "kernelspec": {
   "display_name": "Python 3",
   "language": "python",
   "name": "python3"
  },
  "language_info": {
   "codemirror_mode": {
    "name": "ipython",
    "version": 2
   },
   "file_extension": ".py",
   "mimetype": "text/x-python",
   "name": "python",
   "nbconvert_exporter": "python",
   "pygments_lexer": "ipython2",
   "version": "2.7.6"
  }
 },
 "nbformat": 4,
 "nbformat_minor": 5
}
